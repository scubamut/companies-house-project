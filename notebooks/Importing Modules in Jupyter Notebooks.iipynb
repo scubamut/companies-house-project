import sys
import os

# Add the root directory of the project to sys.path
sys.path.append(os.path.abspath(".."))

# Now you can import your package
from chtools import ch_functions

# Example usage
api_key = 'your_api_key_here'
company_number = '12345678'
details = ch_functions.get_company_details(api_key, company_number)
print(details)