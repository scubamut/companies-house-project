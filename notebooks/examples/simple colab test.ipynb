{
 "cells": [
  {
   "cell_type": "code",
   "execution_count": null,
   "metadata": {
    "vscode": {
     "languageId": "plaintext"
    }
   },
   "outputs": [],
   "source": []
  },
  {
   "cell_type": "code",
   "execution_count": null,
   "metadata": {
    "vscode": {
     "languageId": "plaintext"
    }
   },
   "outputs": [],
   "source": [
    "#@title Setup SSH for VSCode Remote Connection\n",
    "# Download and set up cloudflared\n",
    "!wget -q https://github.com/cloudflare/cloudflared/releases/latest/download/cloudflared-linux-amd64 -O /content/cloudflared\n",
    "!chmod +x /content/cloudflared\n",
    "\n",
    "# Generate SSH keys\n",
    "!ssh-keygen -t rsa -b 4096 -f /content/ssh-key -N \"\"\n",
    "!cat /content/ssh-key.pub >> /root/.ssh/authorized_keys\n",
    "\n",
    "# Start SSH server\n",
    "!service ssh start\n",
    "\n",
    "# Start cloudflared tunnel\n",
    "import subprocess\n",
    "import getpass\n",
    "import random\n",
    "import string\n",
    "\n",
    "# Generate random password\n",
    "password = ''.join(random.choices(string.ascii_letters + string.digits, k=12))\n",
    "print(f\"Password for SSH connection: {password}\")\n",
    "\n",
    "# Start tunnel in background\n",
    "!nohup /content/cloudflared tunnel --url tcp://localhost:22 --metrics localhost:45678 &"
   ]
  }
 ],
 "metadata": {
  "language_info": {
   "name": "python"
  }
 },
 "nbformat": 4,
 "nbformat_minor": 2
}
