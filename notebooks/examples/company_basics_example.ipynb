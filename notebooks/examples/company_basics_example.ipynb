{
 "cells": [
  {
   "cell_type": "code",
   "execution_count": 2,
   "metadata": {},
   "outputs": [],
   "source": [
    "import chtools"
   ]
  },
  {
   "cell_type": "code",
   "execution_count": 8,
   "metadata": {},
   "outputs": [],
   "source": [
    "import requests\n",
    "\n",
    "class CompaniesHouseAPI:\n",
    "    \n",
    "    def __init__(self, api_key):\n",
    "        self.base_url = \"https://api.company-information.service.gov.uk\"\n",
    "        self.auth = (api_key, '')\n",
    "\n",
    "    def get_company_profile(self, company_number):\n",
    "        endpoint = f'/company/{company_number}'\n",
    "        response = requests.get(\n",
    "            f\"{self.base_url}{endpoint}\",\n",
    "            auth=self.auth\n",
    "        )\n",
    "        return response.json()\n",
    "\n",
    "    def search_companies(self, query, items_per_page=20, start_index=0):\n",
    "        endpoint = f'/search/companies'\n",
    "        params = {\n",
    "            'q': query,\n",
    "            'items_per_page': items_per_page,\n",
    "            'start_index': start_index\n",
    "        }\n",
    "        response = requests.get(\n",
    "            f\"{self.base_url}{endpoint}\",\n",
    "            params=params,\n",
    "            auth=self.auth\n",
    "        )\n",
    "        return response.json()\n",
    "\n",
    "    def get_company_officers(self, company_number):\n",
    "        endpoint = f'/company/{company_number}/officers'\n",
    "        response = requests.get(\n",
    "            f\"{self.base_url}{endpoint}\",\n",
    "            auth=self.auth\n",
    "        )\n",
    "        return response.json()"
   ]
  },
  {
   "cell_type": "code",
   "execution_count": 1,
   "metadata": {},
   "outputs": [
    {
     "name": "stdout",
     "output_type": "stream",
     "text": [
      "This is class1 from chtools/ch_basics/more_functionss_and_classes/class1.py\n",
      "This is class2 from chtools/ch_utils/class2.py\n"
     ]
    }
   ],
   "source": [
    "from chtools import ch_basics, ch_utils"
   ]
  },
  {
   "cell_type": "code",
   "execution_count": 4,
   "metadata": {},
   "outputs": [
    {
     "ename": "ImportError",
     "evalue": "cannot import name 'get_api_key' from 'chtools.ch_utils' (/home/scubamut1/06_MY_RESEARCH/0000 test/ch_project/chtools/ch_utils/__init__.py)",
     "output_type": "error",
     "traceback": [
      "\u001b[0;31m---------------------------------------------------------------------------\u001b[0m",
      "\u001b[0;31mImportError\u001b[0m                               Traceback (most recent call last)",
      "Cell \u001b[0;32mIn[4], line 2\u001b[0m\n\u001b[1;32m      1\u001b[0m \u001b[38;5;28;01mfrom\u001b[39;00m\u001b[38;5;250m \u001b[39m\u001b[38;5;21;01mchtools\u001b[39;00m\u001b[38;5;21;01m.\u001b[39;00m\u001b[38;5;21;01mch_basics\u001b[39;00m\u001b[38;5;250m \u001b[39m\u001b[38;5;28;01mimport\u001b[39;00m \u001b[38;5;241m*\u001b[39m\n\u001b[0;32m----> 2\u001b[0m \u001b[38;5;28;01mfrom\u001b[39;00m\u001b[38;5;250m \u001b[39m\u001b[38;5;21;01mchtools\u001b[39;00m\u001b[38;5;21;01m.\u001b[39;00m\u001b[38;5;21;01mch_utils\u001b[39;00m\u001b[38;5;250m \u001b[39m\u001b[38;5;28;01mimport\u001b[39;00m get_api_key\n",
      "\u001b[0;31mImportError\u001b[0m: cannot import name 'get_api_key' from 'chtools.ch_utils' (/home/scubamut1/06_MY_RESEARCH/0000 test/ch_project/chtools/ch_utils/__init__.py)"
     ]
    }
   ],
   "source": [
    "from chtools.ch_basics import *\n",
    "from chtools.ch_utils import get_api_key"
   ]
  },
  {
   "cell_type": "code",
   "execution_count": 3,
   "metadata": {},
   "outputs": [
    {
     "ename": "NameError",
     "evalue": "name 'get_api_key' is not defined",
     "output_type": "error",
     "traceback": [
      "\u001b[0;31m---------------------------------------------------------------------------\u001b[0m",
      "\u001b[0;31mNameError\u001b[0m                                 Traceback (most recent call last)",
      "Cell \u001b[0;32mIn[3], line 1\u001b[0m\n\u001b[0;32m----> 1\u001b[0m api_live_key \u001b[38;5;241m=\u001b[39m \u001b[43mget_api_key\u001b[49m()\n",
      "\u001b[0;31mNameError\u001b[0m: name 'get_api_key' is not defined"
     ]
    }
   ],
   "source": [
    "api_live_key = get_api_key()"
   ]
  },
  {
   "cell_type": "code",
   "execution_count": 5,
   "metadata": {},
   "outputs": [
    {
     "ename": "ModuleNotFoundError",
     "evalue": "No module named 'companies_house'",
     "output_type": "error",
     "traceback": [
      "\u001b[0;31m---------------------------------------------------------------------------\u001b[0m",
      "\u001b[0;31mModuleNotFoundError\u001b[0m                       Traceback (most recent call last)",
      "Cell \u001b[0;32mIn[5], line 4\u001b[0m\n\u001b[1;32m      1\u001b[0m COMPANY_NAME \u001b[38;5;241m=\u001b[39m \u001b[38;5;124m'\u001b[39m\u001b[38;5;124m365 BUSINESS FINANCE LIMITED\u001b[39m\u001b[38;5;124m'\u001b[39m\n\u001b[1;32m      2\u001b[0m COMPANY_NUMBER \u001b[38;5;241m=\u001b[39m \u001b[38;5;124m'\u001b[39m\u001b[38;5;124m08267810\u001b[39m\u001b[38;5;124m'\u001b[39m\n\u001b[0;32m----> 4\u001b[0m \u001b[38;5;28;01mfrom\u001b[39;00m\u001b[38;5;250m \u001b[39m\u001b[38;5;21;01mcompanies_house\u001b[39;00m\u001b[38;5;250m \u001b[39m\u001b[38;5;28;01mimport\u001b[39;00m ch_basics\n\u001b[1;32m      6\u001b[0m \u001b[38;5;66;03m# Initialize the API client\u001b[39;00m\n\u001b[1;32m      7\u001b[0m ch_api \u001b[38;5;241m=\u001b[39m CompaniesHouseAPI(api_live_key)\n",
      "\u001b[0;31mModuleNotFoundError\u001b[0m: No module named 'companies_house'"
     ]
    }
   ],
   "source": [
    "COMPANY_NAME = '365 BUSINESS FINANCE LIMITED'\n",
    "COMPANY_NUMBER = '08267810'\n",
    "\n",
    "from COMPA import ch_basics\n",
    "\n",
    "# Initialize the API client\n",
    "ch_api = CompaniesHouseAPI(api_live_key)\n",
    "\n",
    "# Search for a company\n",
    "search_results = ch_api.search_companies(COMPANY_NAME)\n",
    "\n",
    "# Get company details\n",
    "company_details = ch_api.get_company_profile(COMPANY_NUMBER)\n",
    "\n",
    "# Get company officers\n",
    "officers = ch_api.get_company_officers(COMPANY_NUMBER)"
   ]
  },
  {
   "cell_type": "code",
   "execution_count": null,
   "metadata": {},
   "outputs": [],
   "source": [
    "import json\n",
    "import pandas as pd"
   ]
  },
  {
   "cell_type": "code",
   "execution_count": null,
   "metadata": {},
   "outputs": [],
   "source": [
    "# search_results\n",
    "robust_nested_json_to_multi_df(search_results).T"
   ]
  },
  {
   "cell_type": "code",
   "execution_count": null,
   "metadata": {},
   "outputs": [],
   "source": [
    "# company_details\n",
    "robust_nested_json_to_multi_df(company_details).T"
   ]
  },
  {
   "cell_type": "code",
   "execution_count": 4,
   "metadata": {},
   "outputs": [
    {
     "ename": "NameError",
     "evalue": "name 'COMPANIES' is not defined",
     "output_type": "error",
     "traceback": [
      "\u001b[0;31m---------------------------------------------------------------------------\u001b[0m",
      "\u001b[0;31mNameError\u001b[0m                                 Traceback (most recent call last)",
      "Cell \u001b[0;32mIn[4], line 1\u001b[0m\n\u001b[0;32m----> 1\u001b[0m \u001b[43mCOMPANIES\u001b[49m\u001b[38;5;241m-\u001b[39mHOUSE\u001b[38;5;241m-\u001b[39mPROJECT\n",
      "\u001b[0;31mNameError\u001b[0m: name 'COMPANIES' is not defined"
     ]
    }
   ],
   "source": [
    "COMPANIES-HOUSE-PROJECT"
   ]
  }
 ],
 "metadata": {
  "kernelspec": {
   "display_name": "ch",
   "language": "python",
   "name": "python3"
  },
  "language_info": {
   "codemirror_mode": {
    "name": "ipython",
    "version": 3
   },
   "file_extension": ".py",
   "mimetype": "text/x-python",
   "name": "python",
   "nbconvert_exporter": "python",
   "pygments_lexer": "ipython3",
   "version": "3.10.16"
  }
 },
 "nbformat": 4,
 "nbformat_minor": 2
}
