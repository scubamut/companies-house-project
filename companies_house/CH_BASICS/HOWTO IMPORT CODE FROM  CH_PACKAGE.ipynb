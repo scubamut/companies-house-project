{
 "cells": [
  {
   "cell_type": "markdown",
   "metadata": {},
   "source": [
    "# TO IMPORT CODE FROM CH_PACKAGE"
   ]
  },
  {
   "cell_type": "code",
   "execution_count": 1,
   "metadata": {},
   "outputs": [
    {
     "ename": "ModuleNotFoundError",
     "evalue": "No module named 'CH_PACKAGE'",
     "output_type": "error",
     "traceback": [
      "\u001b[0;31m---------------------------------------------------------------------------\u001b[0m",
      "\u001b[0;31mModuleNotFoundError\u001b[0m                       Traceback (most recent call last)",
      "Cell \u001b[0;32mIn[1], line 2\u001b[0m\n\u001b[1;32m      1\u001b[0m \u001b[38;5;66;03m# Import specific functions from ch_functions.py\u001b[39;00m\n\u001b[0;32m----> 2\u001b[0m \u001b[38;5;28;01mfrom\u001b[39;00m \u001b[38;5;21;01mCH_PACKAGE\u001b[39;00m \u001b[38;5;28;01mimport\u001b[39;00m CH_BASICS, CH_FUNCTIONS\n\u001b[1;32m      4\u001b[0m \u001b[38;5;66;03m# Import entire modules\u001b[39;00m\n\u001b[1;32m      5\u001b[0m \u001b[38;5;28;01mfrom\u001b[39;00m \u001b[38;5;21;01mCH_PACKAGE\u001b[39;00m \u001b[38;5;28;01mimport\u001b[39;00m CH_BASICS\n",
      "\u001b[0;31mModuleNotFoundError\u001b[0m: No module named 'CH_PACKAGE'"
     ]
    }
   ],
   "source": [
    "# Import specific functions from ch_functions.py\n",
    "from CH_PACKAGE import CH_BASICS, CH_FUNCTIONS\n",
    "\n",
    "# Import entire modules\n",
    "from CH_PACKAGE import CH_BASICS\n",
    "from CH_PACKAGE import CH_FUNCTIONS\n",
    "\n",
    "# Alternative: import specific functions from subfolders\n",
    "from CH_PACKAGE.CH_BASICS import CH_IMPORTS\n",
    "from CH_PACKAGE.CH_FUNCTIONS import get_api_key\n",
    "\n",
    "# Or import everything from a module using *\n",
    "from CH_PACKAGE.CH_FUNCTIONS import *  # Not recommended but possible\n",
    "from CH_PACKAGE.CH_BASICS import *  # Not recommended but possible\n"
   ]
  }
 ],
 "metadata": {
  "kernelspec": {
   "display_name": "interactive",
   "language": "python",
   "name": "python3"
  },
  "language_info": {
   "codemirror_mode": {
    "name": "ipython",
    "version": 3
   },
   "file_extension": ".py",
   "mimetype": "text/x-python",
   "name": "python",
   "nbconvert_exporter": "python",
   "pygments_lexer": "ipython3",
   "version": "3.10.16"
  }
 },
 "nbformat": 4,
 "nbformat_minor": 2
}
